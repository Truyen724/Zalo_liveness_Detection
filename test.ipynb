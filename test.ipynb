{
 "cells": [
  {
   "cell_type": "code",
   "execution_count": 1,
   "metadata": {},
   "outputs": [],
   "source": [
    "from numpy.linalg import norm\n",
    "from sklearn.metrics.pairwise import cosine_similarity\n",
    "import threading\n",
    "import cv2\n",
    "import os\n",
    "import pandas as pd\n",
    "import time \n",
    "import numpy as np\n",
    "from align_faces import warp_and_crop_face, get_reference_facial_points\n",
    "from mtcnn.detector import MtcnnDetector\n",
    "\n",
    "# importing the modules\n",
    "import numpy as np\n",
    "import seaborn as sn\n",
    "import matplotlib.pyplot as plt\n",
    "detector = MtcnnDetector()\n"
   ]
  },
  {
   "cell_type": "code",
   "execution_count": 2,
   "metadata": {},
   "outputs": [
    {
     "name": "stdout",
     "output_type": "stream",
     "text": [
      "1.12.1\n"
     ]
    },
    {
     "data": {
      "text/plain": [
       "True"
      ]
     },
     "execution_count": 2,
     "metadata": {},
     "output_type": "execute_result"
    }
   ],
   "source": [
    "import torch\n",
    "print(torch.__version__)\n",
    "torch.cuda.is_available ()"
   ]
  },
  {
   "cell_type": "code",
   "execution_count": 3,
   "metadata": {},
   "outputs": [],
   "source": [
    "data_csv = pd.read_csv(\"../train/label.csv\")"
   ]
  },
  {
   "cell_type": "code",
   "execution_count": null,
   "metadata": {},
   "outputs": [],
   "source": [
    "data_csv.head()\n"
   ]
  },
  {
   "cell_type": "code",
   "execution_count": null,
   "metadata": {},
   "outputs": [],
   "source": [
    "print(data_csv[\"fname\"])"
   ]
  },
  {
   "cell_type": "code",
   "execution_count": 5,
   "metadata": {},
   "outputs": [
    {
     "name": "stdout",
     "output_type": "stream",
     "text": [
      "(160, 224, 224, 3)\n"
     ]
    }
   ],
   "source": [
    "len_of_lst = 160\n",
    "shape_lst_image = (len_of_lst, 224, 224,3)\n",
    "shape_image = (224, 224,3)\n",
    "\n",
    "range = shape_image[0] *shape_image[1]*shape_image[2]\n",
    "print(shape_lst_image)"
   ]
  },
  {
   "cell_type": "code",
   "execution_count": 12,
   "metadata": {},
   "outputs": [],
   "source": [
    "def mask_detect(image):\n",
    "    (h,w) = image.shape[:2]\n",
    "    boxes, facial5points = detector.detect_faces(image)\n",
    "    face = np.zeros(shape =shape_image)\n",
    "    if(len(boxes)!=0):\n",
    "        for box in boxes:\n",
    "            (startX,startY,endX,endY)=box[:4].astype('int')\n",
    "            #ensure the bounding boxes fall within the dimensions of the frame\n",
    "            (startX,startY)=(max(0,startX),max(0,startY))\n",
    "            (endX,endY)=(min(w-1,endX), min(h-1,endY))\n",
    "            #extract the face ROI, convert it from BGR to RGB channel, resize it to 224,224 and preprocess it\n",
    "            c=cv2.resize(image[startY:endY, startX:endX],(shape_image[0],shape_image[1]))\n",
    "            face = c\n",
    "            color = (255,0,0)\n",
    "            cv2.rectangle(image,(startX,startY),(endX,endY),color,2)\n",
    "    return image, face"
   ]
  },
  {
   "cell_type": "code",
   "execution_count": null,
   "metadata": {},
   "outputs": [],
   "source": [
    "\n",
    "    "
   ]
  },
  {
   "cell_type": "code",
   "execution_count": 10,
   "metadata": {},
   "outputs": [],
   "source": [
    "\n",
    "def get_sim_matrix(lst_img):\n",
    "    lst_reshape = lst_img.reshape(len_of_lst,range)\n",
    "    list_sim = cosine_similarity(lst_reshape, lst_reshape)\n",
    "    return list_sim"
   ]
  },
  {
   "cell_type": "code",
   "execution_count": 13,
   "metadata": {},
   "outputs": [],
   "source": [
    "def PlayCamera(id):    \n",
    "    num_of_face = 0\n",
    "    video_capture = cv2.VideoCapture(id)\n",
    "    face = None\n",
    "    width  = int(video_capture.get(3))\n",
    "    height = int(video_capture.get(4))\n",
    "    if height > width:\n",
    "        scale = height / width\n",
    "    else:\n",
    "        scale = width / height\n",
    "    while height>1080 or width>1080: \n",
    "        height = int(height/scale)\n",
    "        width = int(width/scale)\n",
    "\n",
    "    list_face = np.zeros(shape = shape_lst_image, dtype=np.uint8)\n",
    "    while True:\n",
    "        ret, frame = video_capture.read()\n",
    "        \n",
    "        frame = cv2.resize(frame,(width,height))\n",
    "        img, face = mask_detect(frame)\n",
    "        list_face[num_of_face] = face\n",
    "        num_of_face +=1      \n",
    "        cv2.imshow(\"img\",frame)\n",
    "        if cv2.waitKey(1) & 0xFF == ord('q'):\n",
    "            video_capture.release()\n",
    "            cv2.destroyAllWindows()\n",
    "            break\n",
    "            \n",
    "    video_capture.release()\n",
    "    cv2.destroyAllWindows()\n",
    "    return list_face"
   ]
  },
  {
   "cell_type": "code",
   "execution_count": 39,
   "metadata": {},
   "outputs": [],
   "source": [
    "name_dataset = \"../train/videos/\"\n"
   ]
  },
  {
   "cell_type": "code",
   "execution_count": 8,
   "metadata": {},
   "outputs": [],
   "source": [
    "def get_embeded(data_csv):\n",
    "    lst_out= []\n",
    "    for name in data_csv[\"fname\"]:\n",
    "        scr = name_dataset + name\n",
    "        x = PlayCamera(scr)\n",
    "        sim_embed = get_sim_matrix(x)\n",
    "        lst_out.append(sim_embed)\n",
    "    data_csv[\"embed\"] = lst_out\n",
    "    return data_csv,lst_out"
   ]
  },
  {
   "cell_type": "code",
   "execution_count": 43,
   "metadata": {},
   "outputs": [
    {
     "data": {
      "image/png": "[encoded data removed]",
      "text/plain": [
       "<Figure size 432x288 with 2 Axes>"
      ]
     },
     "metadata": {
      "needs_background": "light"
     },
     "output_type": "display_data"
    }
   ],
   "source": [
    "id = \"../train/videos/7.mp4\"\n",
    "lsst2 = PlayCamera(id)\n",
    "cv2.destroyAllWindows()\n",
    "out = get_sim_matrix(lsst2)\n",
    "hm = sn.heatmap(data = out[:20,:20])\n",
    "plt.show()"
   ]
  },
  {
   "cell_type": "code",
   "execution_count": 31,
   "metadata": {},
   "outputs": [
    {
     "data": {
      "image/png": "[encoded data removed]",
      "text/plain": [
       "<Figure size 432x288 with 2 Axes>"
      ]
     },
     "metadata": {
      "needs_background": "light"
     },
     "output_type": "display_data"
    }
   ],
   "source": [
    "hm = sn.heatmap(data = out[:20,:20])\n",
    "plt.show()"
   ]
  },
  {
   "cell_type": "code",
   "execution_count": 17,
   "metadata": {},
   "outputs": [
    {
     "name": "stdout",
     "output_type": "stream",
     "text": [
      "493691673\n"
     ]
    }
   ],
   "source": [
    "print(lsst2.sum())"
   ]
  },
  {
   "cell_type": "code",
   "execution_count": 35,
   "metadata": {},
   "outputs": [
    {
     "data": {
      "image/png": "[encoded data removed]",
      "text/plain": [
       "<Figure size 432x288 with 2 Axes>"
      ]
     },
     "metadata": {
      "needs_background": "light"
     },
     "output_type": "display_data"
    }
   ],
   "source": [
    "id = \"../train_avi/videos/3.mp4\"\n",
    "lsst1 = PlayCamera(id)\n",
    "cv2.destroyAllWindows()\n",
    "out2 = get_sim_matrix(lsst1)\n",
    "hm = sn.heatmap(data = out2[:20,:20])\n",
    "plt.show()"
   ]
  },
  {
   "cell_type": "code",
   "execution_count": 30,
   "metadata": {},
   "outputs": [
    {
     "data": {
      "image/png": "[encoded data removed]",
      "text/plain": [
       "<Figure size 432x288 with 2 Axes>"
      ]
     },
     "metadata": {
      "needs_background": "light"
     },
     "output_type": "display_data"
    }
   ],
   "source": [
    "hm = sn.heatmap(data = out2[:20,:20])\n",
    "plt.show()"
   ]
  },
  {
   "cell_type": "code",
   "execution_count": 18,
   "metadata": {},
   "outputs": [],
   "source": []
  },
  {
   "cell_type": "code",
   "execution_count": 41,
   "metadata": {},
   "outputs": [],
   "source": [
    "cv2.destroyAllWindows()"
   ]
  },
  {
   "cell_type": "code",
   "execution_count": null,
   "metadata": {},
   "outputs": [],
   "source": []
  },
  {
   "cell_type": "code",
   "execution_count": 24,
   "metadata": {},
   "outputs": [
    {
     "data": {
      "image/png": "[encoded data removed]",
      "text/plain": [
       "<Figure size 432x288 with 2 Axes>"
      ]
     },
     "metadata": {
      "needs_background": "light"
     },
     "output_type": "display_data"
    }
   ],
   "source": [
    "# rnet\n",
    "hm = sn.heatmap(data = out2[:20,:20])\n",
    "plt.show()"
   ]
  },
  {
   "cell_type": "code",
   "execution_count": 25,
   "metadata": {},
   "outputs": [
    {
     "data": {
      "image/png": "[encoded data removed]",
      "text/plain": [
       "<Figure size 432x288 with 2 Axes>"
      ]
     },
     "metadata": {
      "needs_background": "light"
     },
     "output_type": "display_data"
    }
   ],
   "source": [
    "hm = sn.heatmap(data = out[:35,:35])\n",
    "plt.show()"
   ]
  },
  {
   "cell_type": "code",
   "execution_count": null,
   "metadata": {},
   "outputs": [],
   "source": [
    "lst_out = []\n",
    "lst_out.append({\n",
    "    \"name\":\"test\",\n",
    "    \"embed\": out\n",
    "})\n",
    "data = pd.DataFrame(lst_out)"
   ]
  },
  {
   "cell_type": "code",
   "execution_count": null,
   "metadata": {},
   "outputs": [],
   "source": [
    "x = data[\"embed\"].values[0]\n",
    "print(type(x))"
   ]
  },
  {
   "cell_type": "code",
   "execution_count": null,
   "metadata": {},
   "outputs": [],
   "source": [
    "cv2.imshow(\"img\",lsst[1])\n",
    "cv2.waitKey(0) \n",
    "cv2.destroyAllWindows()"
   ]
  },
  {
   "cell_type": "code",
   "execution_count": null,
   "metadata": {},
   "outputs": [],
   "source": [
    "cv2.destroyAllWindows()"
   ]
  },
  {
   "cell_type": "code",
   "execution_count": null,
   "metadata": {},
   "outputs": [],
   "source": [
    "# video_capture.release()"
   ]
  },
  {
   "cell_type": "code",
   "execution_count": null,
   "metadata": {},
   "outputs": [],
   "source": [
    "# id = \"../train/videos/1.mp4\"\n",
    "# video_capture = cv2.VideoCapture(id)\n",
    "# num = 0\n",
    "# while True:\n",
    "    \n",
    "#     ret, frame = video_capture.read()\n",
    "#     num += 1\n",
    "#     img, face = mask_detect(frame)\n",
    "\n",
    "#     cv2.imshow('{}'.format(id), img)        \n",
    "#     if cv2.waitKey(1) & 0xFF == ord('q'):\n",
    "        \n",
    "\n",
    "#         break\n",
    "    \n",
    "# print(num)\n",
    "# PlayCamera()"
   ]
  },
  {
   "cell_type": "code",
   "execution_count": null,
   "metadata": {},
   "outputs": [],
   "source": [
    "#Convert to AVI\n",
    "# import imageio\n",
    "# src_dir = \"../train/videos/\"\n",
    "# dest_dir = \"../train_avi/videos/\"\n",
    "# lstmp4 = os.listdir(src_dir)\n",
    "\n",
    "# for file in lstmp4:\n",
    "#     scr = src_dir+file\n",
    "    \n",
    "#     des = dest_dir + file\n",
    "    \n",
    "#     reader = imageio.get_reader(scr)\n",
    "#     fps = reader.get_meta_data()['fps']\n",
    "#     writer = imageio.get_writer(des, fps=fps)\n",
    "\n",
    "#     for im in reader:\n",
    "#         writer.append_data(im[:, :, :])\n",
    "#     writer.close()"
   ]
  },
  {
   "cell_type": "code",
   "execution_count": null,
   "metadata": {},
   "outputs": [],
   "source": [
    "img1 = cv2.imread(\"Truyen_small.png\")\n",
    "img2 = cv2.cvtColor(img1,cv2.COLOR_BGR2GRAY)\n",
    "edges = cv2.Canny(img1,100,200)\n",
    "img_zero = np.zeros(shape =(img1.shape[0],img1.shape[1],3))\n",
    "x = cosine_similarity(np.array([lsst[1].reshape(-1)]), np.array([lsst[59].reshape(-1)]))\n"
   ]
  },
  {
   "cell_type": "code",
   "execution_count": null,
   "metadata": {},
   "outputs": [],
   "source": [
    "print(x)"
   ]
  },
  {
   "cell_type": "code",
   "execution_count": null,
   "metadata": {},
   "outputs": [],
   "source": [
    "print(lst[0][0,1])\n",
    "print(lsst[0,0,1])"
   ]
  },
  {
   "cell_type": "code",
   "execution_count": null,
   "metadata": {},
   "outputs": [],
   "source": [
    "print(img1.shape)"
   ]
  },
  {
   "cell_type": "code",
   "execution_count": null,
   "metadata": {},
   "outputs": [],
   "source": [
    "cv2.imshow(\"x\",edges)\n",
    "cv2.waitKey(0)\n",
    "cv2.destroyAllWindows()"
   ]
  }
 ],
 "metadata": {
  "kernelspec": {
   "display_name": "Python 3.8.3 ('base')",
   "language": "python",
   "name": "python3"
  },
  "language_info": {
   "codemirror_mode": {
    "name": "ipython",
    "version": 3
   },
   "file_extension": ".py",
   "mimetype": "text/x-python",
   "name": "python",
   "nbconvert_exporter": "python",
   "pygments_lexer": "ipython3",
   "version": "3.8.3"
  },
  "orig_nbformat": 4,
  "vscode": {
   "interpreter": {
    "hash": "a90aeebcf29d64a654773811cc170cb25061cb2498f10ac689db374c7bf325de"
   }
  }
 },
 "nbformat": 4,
 "nbformat_minor": 2
}
