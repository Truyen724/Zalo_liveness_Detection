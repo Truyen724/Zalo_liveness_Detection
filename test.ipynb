{
 "cells": [
  {
   "cell_type": "code",
   "execution_count": 1,
   "metadata": {},
   "outputs": [],
   "source": [
    "from numpy.linalg import norm\n",
    "from sklearn.metrics.pairwise import cosine_similarity\n",
    "import threading\n",
    "import cv2\n",
    "import os\n",
    "import pandas as pd\n",
    "import time \n",
    "import numpy as np\n",
    "from align_faces import warp_and_crop_face, get_reference_facial_points\n",
    "from mtcnn.detector import MtcnnDetector\n",
    "\n",
    "# importing the modules\n",
    "import numpy as np\n",
    "import seaborn as sn\n",
    "import matplotlib.pyplot as plt\n",
    "detector = MtcnnDetector()\n"
   ]
  },
  {
   "cell_type": "code",
   "execution_count": 2,
   "metadata": {},
   "outputs": [
    {
     "name": "stdout",
     "output_type": "stream",
     "text": [
      "1.12.1\n"
     ]
    },
    {
     "data": {
      "text/plain": [
       "True"
      ]
     },
     "execution_count": 2,
     "metadata": {},
     "output_type": "execute_result"
    }
   ],
   "source": [
    "import torch\n",
    "print(torch.__version__)\n",
    "torch.cuda.is_available ()"
   ]
  },
  {
   "cell_type": "code",
   "execution_count": 3,
   "metadata": {},
   "outputs": [],
   "source": [
    "data_csv = pd.read_csv(\"../train/label.csv\")"
   ]
  },
  {
   "cell_type": "code",
   "execution_count": 4,
   "metadata": {},
   "outputs": [
    {
     "data": {
      "text/html": [
       "<div>\n",
       "<style scoped>\n",
       "    .dataframe tbody tr th:only-of-type {\n",
       "        vertical-align: middle;\n",
       "    }\n",
       "\n",
       "    .dataframe tbody tr th {\n",
       "        vertical-align: top;\n",
       "    }\n",
       "\n",
       "    .dataframe thead th {\n",
       "        text-align: right;\n",
       "    }\n",
       "</style>\n",
       "<table border=\"1\" class=\"dataframe\">\n",
       "  <thead>\n",
       "    <tr style=\"text-align: right;\">\n",
       "      <th></th>\n",
       "      <th>fname</th>\n",
       "      <th>liveness_score</th>\n",
       "    </tr>\n",
       "  </thead>\n",
       "  <tbody>\n",
       "    <tr>\n",
       "      <th>0</th>\n",
       "      <td>1.mp4</td>\n",
       "      <td>0</td>\n",
       "    </tr>\n",
       "    <tr>\n",
       "      <th>1</th>\n",
       "      <td>2.mp4</td>\n",
       "      <td>1</td>\n",
       "    </tr>\n",
       "    <tr>\n",
       "      <th>2</th>\n",
       "      <td>3.mp4</td>\n",
       "      <td>1</td>\n",
       "    </tr>\n",
       "    <tr>\n",
       "      <th>3</th>\n",
       "      <td>5.mp4</td>\n",
       "      <td>0</td>\n",
       "    </tr>\n",
       "    <tr>\n",
       "      <th>4</th>\n",
       "      <td>7.mp4</td>\n",
       "      <td>1</td>\n",
       "    </tr>\n",
       "  </tbody>\n",
       "</table>\n",
       "</div>"
      ],
      "text/plain": [
       "   fname  liveness_score\n",
       "0  1.mp4               0\n",
       "1  2.mp4               1\n",
       "2  3.mp4               1\n",
       "3  5.mp4               0\n",
       "4  7.mp4               1"
      ]
     },
     "execution_count": 4,
     "metadata": {},
     "output_type": "execute_result"
    }
   ],
   "source": [
    "data_csv.head()\n"
   ]
  },
  {
   "cell_type": "code",
   "execution_count": 5,
   "metadata": {},
   "outputs": [
    {
     "name": "stdout",
     "output_type": "stream",
     "text": [
      "0          1.mp4\n",
      "1          2.mp4\n",
      "2          3.mp4\n",
      "3          5.mp4\n",
      "4          7.mp4\n",
      "          ...   \n",
      "1163    1880.mp4\n",
      "1164    1881.mp4\n",
      "1165    1882.mp4\n",
      "1166    1884.mp4\n",
      "1167    1886.mp4\n",
      "Name: fname, Length: 1168, dtype: object\n"
     ]
    }
   ],
   "source": [
    "print(data_csv[\"fname\"])"
   ]
  },
  {
   "cell_type": "code",
   "execution_count": 6,
   "metadata": {},
   "outputs": [
    {
     "name": "stdout",
     "output_type": "stream",
     "text": [
      "(160, 224, 224, 3)\n"
     ]
    }
   ],
   "source": [
    "len_of_lst = 160\n",
    "shape_lst_image = (len_of_lst, 224, 224,3)\n",
    "shape_image = (224, 224,3)\n",
    "\n",
    "range = shape_image[0] *shape_image[1]*shape_image[2]\n",
    "print(shape_lst_image)"
   ]
  },
  {
   "cell_type": "code",
   "execution_count": 7,
   "metadata": {},
   "outputs": [],
   "source": [
    "def mask_detect(image):\n",
    "    (h,w) = image.shape[:2]\n",
    "    boxes, facial5points = detector.detect_faces(image)\n",
    "    face = np.zeros(shape =shape_image)\n",
    "    if(len(boxes)!=0):\n",
    "        for box in boxes:\n",
    "            (startX,startY,endX,endY)=box[:4].astype('int')\n",
    "            #ensure the bounding boxes fall within the dimensions of the frame\n",
    "            (startX,startY)=(max(0,startX),max(0,startY))\n",
    "            (endX,endY)=(min(w-1,endX), min(h-1,endY))\n",
    "            #extract the face ROI, convert it from BGR to RGB channel, resize it to 224,224 and preprocess it\n",
    "            c=cv2.resize(image[startY:endY, startX:endX],(shape_image[0],shape_image[1]))\n",
    "            face = c\n",
    "            color = (255,0,0)\n",
    "            cv2.rectangle(image,(startX,startY),(endX,endY),color,2)\n",
    "    return image, face"
   ]
  },
  {
   "cell_type": "code",
   "execution_count": null,
   "metadata": {},
   "outputs": [],
   "source": [
    "\n",
    "    "
   ]
  },
  {
   "cell_type": "code",
   "execution_count": 8,
   "metadata": {},
   "outputs": [],
   "source": [
    "\n",
    "def get_sim_matrix(lst_img):\n",
    "    lst_reshape = lst_img.reshape(len_of_lst,range)\n",
    "    list_sim = cosine_similarity(lst_reshape, lst_reshape)\n",
    "    return list_sim"
   ]
  },
  {
   "cell_type": "code",
   "execution_count": 26,
   "metadata": {},
   "outputs": [],
   "source": [
    "\n",
    "def PlayCamera(id):    \n",
    "    num_of_face = 0\n",
    "    video_capture = cv2.VideoCapture(id)\n",
    "    face = None\n",
    "    width  = video_capture.get(3)\n",
    "    height = video_capture.get(4)\n",
    "    if height > width:\n",
    "        scale = height / width\n",
    "    else:\n",
    "        scale = width / height\n",
    "    while height>1080 and width>1080: \n",
    "        height = int(height/scale)\n",
    "        width = int(width/scale)\n",
    "\n",
    "    list_face = np.zeros(shape = shape_lst_image, dtype=np.uint8)\n",
    "    while True:\n",
    "        ret, frame = video_capture.read()\n",
    "\n",
    "        frame = cv2.resize(frame,(width,height))\n",
    "        img, face = mask_detect(frame)\n",
    "        list_face[num_of_face] = face\n",
    "        num_of_face +=1      \n",
    "        cv2.imshow(\"img\",frame)\n",
    "        if cv2.waitKey(1) & 0xFF == ord('q'):\n",
    "            video_capture.release()\n",
    "            cv2.destroyAllWindows()\n",
    "            break\n",
    "            \n",
    "    video_capture.release()\n",
    "    cv2.destroyAllWindows()\n",
    "    return list_face"
   ]
  },
  {
   "cell_type": "code",
   "execution_count": 10,
   "metadata": {},
   "outputs": [],
   "source": [
    "name_dataset = \"../train/videos/\"\n"
   ]
  },
  {
   "cell_type": "code",
   "execution_count": 11,
   "metadata": {},
   "outputs": [],
   "source": [
    "def get_embeded(data_csv):\n",
    "    lst_out= []\n",
    "    for name in data_csv[\"fname\"]:\n",
    "        scr = name_dataset + name\n",
    "        x = PlayCamera(scr)\n",
    "        sim_embed = get_sim_matrix(x)\n",
    "        lst_out.append(sim_embed)\n",
    "    data_csv[\"embed\"] = lst_out\n",
    "    return data_csv,lst_out"
   ]
  },
  {
   "cell_type": "code",
   "execution_count": 43,
   "metadata": {},
   "outputs": [
    {
     "ename": "error",
     "evalue": "OpenCV(4.6.0) :-1: error: (-5:Bad argument) in function 'resize'\n> Overload resolution failed:\n>  - Can't parse 'dsize'. Sequence item with index 0 has a wrong type\n>  - Can't parse 'dsize'. Sequence item with index 0 has a wrong type\n",
     "output_type": "error",
     "traceback": [
      "\u001b[1;31m---------------------------------------------------------------------------\u001b[0m",
      "\u001b[1;31merror\u001b[0m                                     Traceback (most recent call last)",
      "\u001b[1;32m~\\AppData\\Local\\Temp/ipykernel_14748/3563647444.py\u001b[0m in \u001b[0;36m<module>\u001b[1;34m\u001b[0m\n\u001b[0;32m      1\u001b[0m \u001b[0mid\u001b[0m \u001b[1;33m=\u001b[0m \u001b[1;34m\"../train/videos/7.mp4\"\u001b[0m\u001b[1;33m\u001b[0m\u001b[1;33m\u001b[0m\u001b[0m\n\u001b[1;32m----> 2\u001b[1;33m \u001b[0mlsst2\u001b[0m \u001b[1;33m=\u001b[0m \u001b[0mPlayCamera\u001b[0m\u001b[1;33m(\u001b[0m\u001b[0mid\u001b[0m\u001b[1;33m)\u001b[0m\u001b[1;33m\u001b[0m\u001b[1;33m\u001b[0m\u001b[0m\n\u001b[0m\u001b[0;32m      3\u001b[0m \u001b[0mcv2\u001b[0m\u001b[1;33m.\u001b[0m\u001b[0mdestroyAllWindows\u001b[0m\u001b[1;33m(\u001b[0m\u001b[1;33m)\u001b[0m\u001b[1;33m\u001b[0m\u001b[1;33m\u001b[0m\u001b[0m\n",
      "\u001b[1;32m~\\AppData\\Local\\Temp/ipykernel_14748/1350729140.py\u001b[0m in \u001b[0;36mPlayCamera\u001b[1;34m(id)\u001b[0m\n\u001b[0;32m     17\u001b[0m         \u001b[0mret\u001b[0m\u001b[1;33m,\u001b[0m \u001b[0mframe\u001b[0m \u001b[1;33m=\u001b[0m \u001b[0mvideo_capture\u001b[0m\u001b[1;33m.\u001b[0m\u001b[0mread\u001b[0m\u001b[1;33m(\u001b[0m\u001b[1;33m)\u001b[0m\u001b[1;33m\u001b[0m\u001b[1;33m\u001b[0m\u001b[0m\n\u001b[0;32m     18\u001b[0m \u001b[1;33m\u001b[0m\u001b[0m\n\u001b[1;32m---> 19\u001b[1;33m         \u001b[0mframe\u001b[0m \u001b[1;33m=\u001b[0m \u001b[0mcv2\u001b[0m\u001b[1;33m.\u001b[0m\u001b[0mresize\u001b[0m\u001b[1;33m(\u001b[0m\u001b[0mframe\u001b[0m\u001b[1;33m,\u001b[0m\u001b[1;33m(\u001b[0m\u001b[0mwidth\u001b[0m\u001b[1;33m,\u001b[0m\u001b[0mheight\u001b[0m\u001b[1;33m)\u001b[0m\u001b[1;33m)\u001b[0m\u001b[1;33m\u001b[0m\u001b[1;33m\u001b[0m\u001b[0m\n\u001b[0m\u001b[0;32m     20\u001b[0m         \u001b[0mimg\u001b[0m\u001b[1;33m,\u001b[0m \u001b[0mface\u001b[0m \u001b[1;33m=\u001b[0m \u001b[0mmask_detect\u001b[0m\u001b[1;33m(\u001b[0m\u001b[0mframe\u001b[0m\u001b[1;33m)\u001b[0m\u001b[1;33m\u001b[0m\u001b[1;33m\u001b[0m\u001b[0m\n\u001b[0;32m     21\u001b[0m         \u001b[0mlist_face\u001b[0m\u001b[1;33m[\u001b[0m\u001b[0mnum_of_face\u001b[0m\u001b[1;33m]\u001b[0m \u001b[1;33m=\u001b[0m \u001b[0mface\u001b[0m\u001b[1;33m\u001b[0m\u001b[1;33m\u001b[0m\u001b[0m\n",
      "\u001b[1;31merror\u001b[0m: OpenCV(4.6.0) :-1: error: (-5:Bad argument) in function 'resize'\n> Overload resolution failed:\n>  - Can't parse 'dsize'. Sequence item with index 0 has a wrong type\n>  - Can't parse 'dsize'. Sequence item with index 0 has a wrong type\n"
     ]
    }
   ],
   "source": [
    "id = \"../train/videos/7.mp4\"\n",
    "lsst2 = PlayCamera(id)\n",
    "cv2.destroyAllWindows()"
   ]
  },
  {
   "cell_type": "code",
   "execution_count": 13,
   "metadata": {},
   "outputs": [
    {
     "name": "stdout",
     "output_type": "stream",
     "text": [
      "796858519\n"
     ]
    }
   ],
   "source": [
    "print(lsst2.sum())"
   ]
  },
  {
   "cell_type": "code",
   "execution_count": 14,
   "metadata": {},
   "outputs": [
    {
     "ename": "NameError",
     "evalue": "name 'lsst' is not defined",
     "output_type": "error",
     "traceback": [
      "\u001b[1;31m---------------------------------------------------------------------------\u001b[0m",
      "\u001b[1;31mNameError\u001b[0m                                 Traceback (most recent call last)",
      "\u001b[1;32m~\\AppData\\Local\\Temp/ipykernel_14748/808552514.py\u001b[0m in \u001b[0;36m<module>\u001b[1;34m\u001b[0m\n\u001b[1;32m----> 1\u001b[1;33m \u001b[0mout\u001b[0m \u001b[1;33m=\u001b[0m \u001b[0mget_sim_matrix\u001b[0m\u001b[1;33m(\u001b[0m\u001b[0mlsst\u001b[0m\u001b[1;33m)\u001b[0m\u001b[1;33m\u001b[0m\u001b[1;33m\u001b[0m\u001b[0m\n\u001b[0m",
      "\u001b[1;31mNameError\u001b[0m: name 'lsst' is not defined"
     ]
    }
   ],
   "source": [
    "out = get_sim_matrix(lsst)"
   ]
  },
  {
   "cell_type": "code",
   "execution_count": 40,
   "metadata": {},
   "outputs": [],
   "source": [
    "cv2.destroyAllWindows()"
   ]
  },
  {
   "cell_type": "code",
   "execution_count": null,
   "metadata": {},
   "outputs": [],
   "source": [
    "id = \"../train_avi/videos/3.mp4\"\n",
    "lsst2 = PlayCamera(id)\n",
    "cv2.destroyAllWindows()\n",
    "out2 = get_sim_matrix(lsst2)"
   ]
  },
  {
   "cell_type": "code",
   "execution_count": null,
   "metadata": {},
   "outputs": [],
   "source": []
  },
  {
   "cell_type": "code",
   "execution_count": null,
   "metadata": {},
   "outputs": [],
   "source": [
    "# out[0].shape\n",
    "hm = sn.heatmap(data = out[:35,:35])\n",
    "plt.show()"
   ]
  },
  {
   "cell_type": "code",
   "execution_count": null,
   "metadata": {},
   "outputs": [],
   "source": [
    "lst_out = []\n",
    "lst_out.append({\n",
    "    \"name\":\"test\",\n",
    "    \"embed\": out\n",
    "})\n",
    "data = pd.DataFrame(lst_out)"
   ]
  },
  {
   "cell_type": "code",
   "execution_count": null,
   "metadata": {},
   "outputs": [],
   "source": [
    "x = data[\"embed\"].values[0]\n",
    "print(type(x))"
   ]
  },
  {
   "cell_type": "code",
   "execution_count": null,
   "metadata": {},
   "outputs": [],
   "source": [
    "cv2.imshow(\"img\",lsst[1])\n",
    "cv2.waitKey(0) \n",
    "cv2.destroyAllWindows()"
   ]
  },
  {
   "cell_type": "code",
   "execution_count": 25,
   "metadata": {},
   "outputs": [],
   "source": [
    "cv2.destroyAllWindows()"
   ]
  },
  {
   "cell_type": "code",
   "execution_count": null,
   "metadata": {},
   "outputs": [],
   "source": [
    "# video_capture.release()"
   ]
  },
  {
   "cell_type": "code",
   "execution_count": null,
   "metadata": {},
   "outputs": [],
   "source": [
    "# id = \"../train/videos/1.mp4\"\n",
    "# video_capture = cv2.VideoCapture(id)\n",
    "# num = 0\n",
    "# while True:\n",
    "    \n",
    "#     ret, frame = video_capture.read()\n",
    "#     num += 1\n",
    "#     img, face = mask_detect(frame)\n",
    "\n",
    "#     cv2.imshow('{}'.format(id), img)        \n",
    "#     if cv2.waitKey(1) & 0xFF == ord('q'):\n",
    "        \n",
    "\n",
    "#         break\n",
    "    \n",
    "# print(num)\n",
    "# PlayCamera()"
   ]
  },
  {
   "cell_type": "code",
   "execution_count": null,
   "metadata": {},
   "outputs": [],
   "source": [
    "#Convert to AVI\n",
    "# import imageio\n",
    "# src_dir = \"../train/videos/\"\n",
    "# dest_dir = \"../train_avi/videos/\"\n",
    "# lstmp4 = os.listdir(src_dir)\n",
    "\n",
    "# for file in lstmp4:\n",
    "#     scr = src_dir+file\n",
    "    \n",
    "#     des = dest_dir + file\n",
    "    \n",
    "#     reader = imageio.get_reader(scr)\n",
    "#     fps = reader.get_meta_data()['fps']\n",
    "#     writer = imageio.get_writer(des, fps=fps)\n",
    "\n",
    "#     for im in reader:\n",
    "#         writer.append_data(im[:, :, :])\n",
    "#     writer.close()"
   ]
  },
  {
   "cell_type": "code",
   "execution_count": null,
   "metadata": {},
   "outputs": [],
   "source": [
    "img1 = cv2.imread(\"Truyen_small.png\")\n",
    "img2 = cv2.cvtColor(img1,cv2.COLOR_BGR2GRAY)\n",
    "edges = cv2.Canny(img1,100,200)\n",
    "img_zero = np.zeros(shape =(img1.shape[0],img1.shape[1],3))\n",
    "x = cosine_similarity(np.array([lsst[1].reshape(-1)]), np.array([lsst[59].reshape(-1)]))\n"
   ]
  },
  {
   "cell_type": "code",
   "execution_count": null,
   "metadata": {},
   "outputs": [],
   "source": [
    "print(x)"
   ]
  },
  {
   "cell_type": "code",
   "execution_count": null,
   "metadata": {},
   "outputs": [],
   "source": [
    "print(lst[0][0,1])\n",
    "print(lsst[0,0,1])"
   ]
  },
  {
   "cell_type": "code",
   "execution_count": null,
   "metadata": {},
   "outputs": [],
   "source": [
    "print(img1.shape)"
   ]
  },
  {
   "cell_type": "code",
   "execution_count": null,
   "metadata": {},
   "outputs": [],
   "source": [
    "cv2.imshow(\"x\",edges)\n",
    "cv2.waitKey(0)\n",
    "cv2.destroyAllWindows()"
   ]
  }
 ],
 "metadata": {
  "kernelspec": {
   "display_name": "Python 3.8.3 ('base')",
   "language": "python",
   "name": "python3"
  },
  "language_info": {
   "codemirror_mode": {
    "name": "ipython",
    "version": 3
   },
   "file_extension": ".py",
   "mimetype": "text/x-python",
   "name": "python",
   "nbconvert_exporter": "python",
   "pygments_lexer": "ipython3",
   "version": "3.8.3"
  },
  "orig_nbformat": 4,
  "vscode": {
   "interpreter": {
    "hash": "a90aeebcf29d64a654773811cc170cb25061cb2498f10ac689db374c7bf325de"
   }
  }
 },
 "nbformat": 4,
 "nbformat_minor": 2
}
